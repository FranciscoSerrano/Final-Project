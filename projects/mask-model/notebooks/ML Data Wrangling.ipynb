{
 "cells": [
  {
   "cell_type": "markdown",
   "metadata": {},
   "source": [
    "# ML Data Wrangling"
   ]
  },
  {
   "cell_type": "markdown",
   "metadata": {},
   "source": [
    "## Dependencies"
   ]
  },
  {
   "cell_type": "code",
   "execution_count": 3,
   "metadata": {},
   "outputs": [],
   "source": [
    "%config IPCompleter.greedy=True\n",
    "%matplotlib inline\n",
    "\n",
    "# Helper libraries\n",
    "import os\n",
    "import numpy as np\n",
    "import matplotlib.pyplot as plt\n",
    "\n",
    "# Import the dependencies.\n",
    "import pandas as pd\n",
    "from pathlib import Path\n",
    "import time"
   ]
  },
  {
   "cell_type": "code",
   "execution_count": 6,
   "metadata": {},
   "outputs": [
    {
     "name": "stdout",
     "output_type": "stream",
     "text": [
      "('..', 'data', 'processed')\n",
      "data\n"
     ]
    }
   ],
   "source": [
    "# I want to walk through all the images in our dataset and gether information on them.\n",
    "\n",
    "with_mask = Path(\"../data/processed/with_mask\")\n",
    "all_files = []\n",
    "for i in with_mask.rglob('*.*'):\n",
    "    all_files.append((i.parent, i.name, i.stat().st_size, time.ctime(i.stat().st_ctime)))\n",
    "\n",
    "columns = [\"Parent\", \"File_Name\", \"File_Size\", \"Created\"]\n",
    "df = pd.DataFrame.from_records(all_files, columns=columns)\n",
    "\n",
    "df.head()"
   ]
  },
  {
   "cell_type": "code",
   "execution_count": null,
   "metadata": {},
   "outputs": [],
   "source": [
    "# I want to walk through all the images in our dataset and gether information on them.\n",
    "\n",
    "without_mask = Path(\"../data/processed/without_mask\")\n",
    "all_files = []\n",
    "for i in without_mask.rglob('*.*'):\n",
    "    all_files.append((i.parent, i.name, i.stat().st_size, time.ctime(i.stat().st_ctime)))\n",
    "\n",
    "columns = [\"Parent\", \"File_Name\", \"File_Size\", \"Created\"]\n",
    "df = pd.DataFrame.from_records(all_files, columns=columns)\n",
    "\n",
    "df.head()"
   ]
  },
  {
   "cell_type": "code",
   "execution_count": 7,
   "metadata": {},
   "outputs": [
    {
     "data": {
      "text/plain": [
       "'png'"
      ]
     },
     "execution_count": 7,
     "metadata": {},
     "output_type": "execute_result"
    }
   ],
   "source": [
    "# https://docs.python.org/3/library/imghdr.html\n",
    "# Checking if an uploaded file through our website is a valid file\n",
    "import imghdr\n",
    "\n",
    "test_path = \"../data/external/test/maksssksksss0.png\"\n",
    "imghdr.what(test_path)"
   ]
  },
  {
   "cell_type": "code",
   "execution_count": null,
   "metadata": {},
   "outputs": [],
   "source": []
  }
 ],
 "metadata": {
  "kernelspec": {
   "display_name": "Python 3",
   "language": "python",
   "name": "python3"
  },
  "language_info": {
   "codemirror_mode": {
    "name": "ipython",
    "version": 3
   },
   "file_extension": ".py",
   "mimetype": "text/x-python",
   "name": "python",
   "nbconvert_exporter": "python",
   "pygments_lexer": "ipython3",
   "version": "3.7.9"
  }
 },
 "nbformat": 4,
 "nbformat_minor": 4
}

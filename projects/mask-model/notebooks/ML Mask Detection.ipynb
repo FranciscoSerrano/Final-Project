{
 "cells": [
  {
   "cell_type": "markdown",
   "metadata": {},
   "source": [
    "# Mask Detection"
   ]
  },
  {
   "cell_type": "markdown",
   "metadata": {},
   "source": [
    "## Dependencies"
   ]
  },
  {
   "cell_type": "code",
   "execution_count": 1,
   "metadata": {},
   "outputs": [
    {
     "name": "stderr",
     "output_type": "stream",
     "text": [
      "C:\\ProgramData\\Anaconda3\\lib\\site-packages\\tensorflow\\python\\framework\\dtypes.py:516: FutureWarning: Passing (type, 1) or '1type' as a synonym of type is deprecated; in a future version of numpy, it will be understood as (type, (1,)) / '(1,)type'.\n",
      "  _np_qint8 = np.dtype([(\"qint8\", np.int8, 1)])\n",
      "C:\\ProgramData\\Anaconda3\\lib\\site-packages\\tensorflow\\python\\framework\\dtypes.py:517: FutureWarning: Passing (type, 1) or '1type' as a synonym of type is deprecated; in a future version of numpy, it will be understood as (type, (1,)) / '(1,)type'.\n",
      "  _np_quint8 = np.dtype([(\"quint8\", np.uint8, 1)])\n",
      "C:\\ProgramData\\Anaconda3\\lib\\site-packages\\tensorflow\\python\\framework\\dtypes.py:518: FutureWarning: Passing (type, 1) or '1type' as a synonym of type is deprecated; in a future version of numpy, it will be understood as (type, (1,)) / '(1,)type'.\n",
      "  _np_qint16 = np.dtype([(\"qint16\", np.int16, 1)])\n",
      "C:\\ProgramData\\Anaconda3\\lib\\site-packages\\tensorflow\\python\\framework\\dtypes.py:519: FutureWarning: Passing (type, 1) or '1type' as a synonym of type is deprecated; in a future version of numpy, it will be understood as (type, (1,)) / '(1,)type'.\n",
      "  _np_quint16 = np.dtype([(\"quint16\", np.uint16, 1)])\n",
      "C:\\ProgramData\\Anaconda3\\lib\\site-packages\\tensorflow\\python\\framework\\dtypes.py:520: FutureWarning: Passing (type, 1) or '1type' as a synonym of type is deprecated; in a future version of numpy, it will be understood as (type, (1,)) / '(1,)type'.\n",
      "  _np_qint32 = np.dtype([(\"qint32\", np.int32, 1)])\n",
      "C:\\ProgramData\\Anaconda3\\lib\\site-packages\\tensorflow\\python\\framework\\dtypes.py:525: FutureWarning: Passing (type, 1) or '1type' as a synonym of type is deprecated; in a future version of numpy, it will be understood as (type, (1,)) / '(1,)type'.\n",
      "  np_resource = np.dtype([(\"resource\", np.ubyte, 1)])\n"
     ]
    },
    {
     "name": "stdout",
     "output_type": "stream",
     "text": [
      "1.14.0\n"
     ]
    },
    {
     "name": "stderr",
     "output_type": "stream",
     "text": [
      "C:\\ProgramData\\Anaconda3\\lib\\site-packages\\tensorboard\\compat\\tensorflow_stub\\dtypes.py:541: FutureWarning: Passing (type, 1) or '1type' as a synonym of type is deprecated; in a future version of numpy, it will be understood as (type, (1,)) / '(1,)type'.\n",
      "  _np_qint8 = np.dtype([(\"qint8\", np.int8, 1)])\n",
      "C:\\ProgramData\\Anaconda3\\lib\\site-packages\\tensorboard\\compat\\tensorflow_stub\\dtypes.py:542: FutureWarning: Passing (type, 1) or '1type' as a synonym of type is deprecated; in a future version of numpy, it will be understood as (type, (1,)) / '(1,)type'.\n",
      "  _np_quint8 = np.dtype([(\"quint8\", np.uint8, 1)])\n",
      "C:\\ProgramData\\Anaconda3\\lib\\site-packages\\tensorboard\\compat\\tensorflow_stub\\dtypes.py:543: FutureWarning: Passing (type, 1) or '1type' as a synonym of type is deprecated; in a future version of numpy, it will be understood as (type, (1,)) / '(1,)type'.\n",
      "  _np_qint16 = np.dtype([(\"qint16\", np.int16, 1)])\n",
      "C:\\ProgramData\\Anaconda3\\lib\\site-packages\\tensorboard\\compat\\tensorflow_stub\\dtypes.py:544: FutureWarning: Passing (type, 1) or '1type' as a synonym of type is deprecated; in a future version of numpy, it will be understood as (type, (1,)) / '(1,)type'.\n",
      "  _np_quint16 = np.dtype([(\"quint16\", np.uint16, 1)])\n",
      "C:\\ProgramData\\Anaconda3\\lib\\site-packages\\tensorboard\\compat\\tensorflow_stub\\dtypes.py:545: FutureWarning: Passing (type, 1) or '1type' as a synonym of type is deprecated; in a future version of numpy, it will be understood as (type, (1,)) / '(1,)type'.\n",
      "  _np_qint32 = np.dtype([(\"qint32\", np.int32, 1)])\n",
      "C:\\ProgramData\\Anaconda3\\lib\\site-packages\\tensorboard\\compat\\tensorflow_stub\\dtypes.py:550: FutureWarning: Passing (type, 1) or '1type' as a synonym of type is deprecated; in a future version of numpy, it will be understood as (type, (1,)) / '(1,)type'.\n",
      "  np_resource = np.dtype([(\"resource\", np.ubyte, 1)])\n"
     ]
    }
   ],
   "source": [
    "%config IPCompleter.greedy=True\n",
    "%matplotlib inline\n",
    "\n",
    "# Import the dependencies.\n",
    "# OpenCV\n",
    "import cv2\n",
    "\n",
    "# TensorFlow and tf.keras\n",
    "import tensorflow as tf\n",
    "from tensorflow.keras import utils\n",
    "from tensorflow.keras.models import Sequential, load_model\n",
    "from tensorflow.keras.layers import (\n",
    "    Dense,\n",
    "    Activation,\n",
    "    Flatten,\n",
    "    Dropout,\n",
    "    Conv2D,\n",
    "    MaxPooling2D,\n",
    ")\n",
    "from tensorflow.keras.callbacks import ModelCheckpoint\n",
    "\n",
    "# Helper libraries\n",
    "import os\n",
    "import numpy as np\n",
    "import matplotlib.pyplot as plt\n",
    "\n",
    "# Tensorflow Libraries Matter for Speed!!!\n",
    "print(tf.__version__)"
   ]
  },
  {
   "cell_type": "markdown",
   "metadata": {},
   "source": [
    "# Data Loading"
   ]
  },
  {
   "cell_type": "code",
   "execution_count": 2,
   "metadata": {},
   "outputs": [
    {
     "name": "stdout",
     "output_type": "stream",
     "text": [
      "{'without_mask': 0, 'with_mask': 1}\n",
      "['without_mask', 'with_mask']\n",
      "[0, 1]\n"
     ]
    }
   ],
   "source": [
    "# All this could be coverted to the pathlib module\n",
    "# \n",
    "\n",
    "# Processed folder houses the already seperated image files\n",
    "data_path = \"../data/processed\"\n",
    "categories = os.listdir(data_path)\n",
    "labels = [i for i in range(len(categories))]\n",
    "\n",
    "# Initialize an empty dictionary for labels\n",
    "label_dict = dict(zip(categories, labels))\n",
    "\n",
    "print(label_dict)\n",
    "print(categories)\n",
    "print(labels)"
   ]
  },
  {
   "cell_type": "markdown",
   "metadata": {},
   "source": [
    "# Data Preprocessing"
   ]
  },
  {
   "cell_type": "code",
   "execution_count": 3,
   "metadata": {},
   "outputs": [],
   "source": [
    "img_size = 100\n",
    "data = []\n",
    "target = []\n",
    "\n",
    "\n",
    "for category in categories:\n",
    "    folder_path = os.path.join(data_path, category)\n",
    "    img_names = os.listdir(folder_path)\n",
    "\n",
    "    for img_name in img_names:\n",
    "        img_path = os.path.join(folder_path, img_name)\n",
    "        img = cv2.imread(img_path)\n",
    "\n",
    "        try:\n",
    "            # Coverting the image into gray scale\n",
    "            gray = cv2.cvtColor(img, cv2.COLOR_BGR2GRAY)\n",
    "            # Resizing the gray scale into 50x50, since we need a fixed common size for all the images in the dataset\n",
    "            resized = cv2.resize(gray, (img_size, img_size))\n",
    "            # Appending the image and the label(categorized) into the list (dataset)\n",
    "            data.append(resized)\n",
    "            target.append(label_dict[category])\n",
    "\n",
    "        except Exception as e:\n",
    "            # If any exception rasied, the exception will be printed here. And pass to the next image\n",
    "            print(\"Exception:\", e)"
   ]
  },
  {
   "cell_type": "code",
   "execution_count": 4,
   "metadata": {},
   "outputs": [],
   "source": [
    "# Create a numpy array to store data and target\n",
    "# Normalize data\n",
    "data = np.array(data) / 255.0\n",
    "data = np.reshape(data, (data.shape[0], img_size, img_size, 1))\n",
    "target = np.array(target)\n",
    "\n",
    "# Use the keras utils tool to create catagorical target\n",
    "new_target = utils.to_categorical(target)"
   ]
  },
  {
   "cell_type": "code",
   "execution_count": 5,
   "metadata": {},
   "outputs": [],
   "source": [
    "# https://numpy.org/doc/stable/reference/generated/numpy.save.html\n",
    "np.save(\"numpy/data\", data)\n",
    "np.save(\"numpy/target\", new_target)"
   ]
  },
  {
   "cell_type": "markdown",
   "metadata": {},
   "source": [
    "# Training the Convolutional Neural Network"
   ]
  },
  {
   "cell_type": "code",
   "execution_count": 6,
   "metadata": {},
   "outputs": [],
   "source": [
    "# Loading in the saved numpy arrays in the previous code\n",
    "data = np.load(\"numpy/data.npy\")\n",
    "target = np.load(\"numpy/target.npy\")"
   ]
  },
  {
   "cell_type": "code",
   "execution_count": 7,
   "metadata": {},
   "outputs": [
    {
     "name": "stdout",
     "output_type": "stream",
     "text": [
      "WARNING:tensorflow:From C:\\ProgramData\\Anaconda3\\lib\\site-packages\\tensorflow\\python\\ops\\init_ops.py:1251: calling VarianceScaling.__init__ (from tensorflow.python.ops.init_ops) with dtype is deprecated and will be removed in a future version.\n",
      "Instructions for updating:\n",
      "Call initializer instance with the dtype argument instead of passing it to the constructor\n"
     ]
    }
   ],
   "source": [
    "# Create the model\n",
    "model = Sequential()\n",
    "\n",
    "# The first CNN layer followed by Relu and MaxPooling layers\n",
    "model.add(Conv2D(200, (3, 3), input_shape=data.shape[1:]))\n",
    "model.add(Activation(\"relu\"))\n",
    "model.add(MaxPooling2D(pool_size=(2, 2)))\n",
    "\n",
    "# The second convolution layer followed by Relu and MaxPooling layers\n",
    "model.add(Conv2D(100, (3, 3)))\n",
    "model.add(Activation(\"relu\"))\n",
    "model.add(MaxPooling2D(pool_size=(2, 2)))\n",
    "\n",
    "# Flatten layer to stack the output convolutions from second convolution layer\n",
    "model.add(Flatten())\n",
    "model.add(Dropout(0.5))\n",
    "\n",
    "# Dense layer of 64 neurons\n",
    "model.add(Dense(50, activation=\"relu\"))\n",
    "# The Final layer with two outputs for two categories\n",
    "model.add(Dense(2, activation=\"softmax\"))\n",
    "\n",
    "# Compile the model\n",
    "model.compile(loss=\"categorical_crossentropy\", optimizer=\"adam\", metrics=[\"accuracy\"])"
   ]
  },
  {
   "cell_type": "code",
   "execution_count": 8,
   "metadata": {},
   "outputs": [],
   "source": [
    "from sklearn.model_selection import train_test_split\n",
    "\n",
    "# Use the train_test_split to split the data into training and testing set.\n",
    "# The data set isnt very large so only using 10% to test.\n",
    "train_data, test_data, train_target, test_target = train_test_split(\n",
    "    data, target, test_size=0.1\n",
    ")"
   ]
  },
  {
   "cell_type": "code",
   "execution_count": 9,
   "metadata": {},
   "outputs": [
    {
     "name": "stdout",
     "output_type": "stream",
     "text": [
      "Train on 2782 samples, validate on 696 samples\n",
      "Epoch 1/20\n",
      "2782/2782 [==============================] - 65s 23ms/sample - loss: 0.6265 - acc: 0.6528 - val_loss: 0.5220 - val_acc: 0.7658\n",
      "Epoch 2/20\n",
      "2782/2782 [==============================] - 60s 21ms/sample - loss: 0.4521 - acc: 0.7930 - val_loss: 0.3706 - val_acc: 0.8391\n",
      "Epoch 3/20\n",
      "2782/2782 [==============================] - 67s 24ms/sample - loss: 0.3729 - acc: 0.8418 - val_loss: 0.3220 - val_acc: 0.8520\n",
      "Epoch 4/20\n",
      "2782/2782 [==============================] - 64s 23ms/sample - loss: 0.3245 - acc: 0.8541 - val_loss: 0.3102 - val_acc: 0.8678\n",
      "Epoch 5/20\n",
      "2782/2782 [==============================] - 63s 23ms/sample - loss: 0.2646 - acc: 0.8907 - val_loss: 0.2727 - val_acc: 0.8807\n",
      "Epoch 6/20\n",
      "2782/2782 [==============================] - 63s 23ms/sample - loss: 0.2318 - acc: 0.9065 - val_loss: 0.2471 - val_acc: 0.8851\n",
      "Epoch 7/20\n",
      "2782/2782 [==============================] - 64s 23ms/sample - loss: 0.2027 - acc: 0.9184 - val_loss: 0.2484 - val_acc: 0.8966\n",
      "Epoch 8/20\n",
      "2782/2782 [==============================] - 61s 22ms/sample - loss: 0.1841 - acc: 0.9191 - val_loss: 0.2283 - val_acc: 0.9037\n",
      "Epoch 9/20\n",
      "2782/2782 [==============================] - 62s 22ms/sample - loss: 0.1879 - acc: 0.9238 - val_loss: 0.2136 - val_acc: 0.9109\n",
      "Epoch 10/20\n",
      "2782/2782 [==============================] - 61s 22ms/sample - loss: 0.1550 - acc: 0.9396 - val_loss: 0.2166 - val_acc: 0.9095\n",
      "Epoch 11/20\n",
      "2782/2782 [==============================] - 59s 21ms/sample - loss: 0.1410 - acc: 0.9443 - val_loss: 0.2522 - val_acc: 0.8879\n",
      "Epoch 12/20\n",
      "2782/2782 [==============================] - 60s 21ms/sample - loss: 0.1165 - acc: 0.9547 - val_loss: 0.2750 - val_acc: 0.8865\n",
      "Epoch 13/20\n",
      "2782/2782 [==============================] - 60s 22ms/sample - loss: 0.1104 - acc: 0.9569 - val_loss: 0.2426 - val_acc: 0.9009\n",
      "Epoch 14/20\n",
      "2782/2782 [==============================] - 61s 22ms/sample - loss: 0.0927 - acc: 0.9662 - val_loss: 0.2285 - val_acc: 0.9080\n",
      "Epoch 15/20\n",
      "2782/2782 [==============================] - 64s 23ms/sample - loss: 0.0906 - acc: 0.9687 - val_loss: 0.2208 - val_acc: 0.9224\n",
      "Epoch 16/20\n",
      "2782/2782 [==============================] - 66s 24ms/sample - loss: 0.0769 - acc: 0.9745 - val_loss: 0.2409 - val_acc: 0.9037\n",
      "Epoch 17/20\n",
      "2782/2782 [==============================] - 59s 21ms/sample - loss: 0.0599 - acc: 0.9781 - val_loss: 0.2722 - val_acc: 0.9109\n",
      "Epoch 18/20\n",
      "2782/2782 [==============================] - 59s 21ms/sample - loss: 0.0674 - acc: 0.9738 - val_loss: 0.2407 - val_acc: 0.9138\n",
      "Epoch 19/20\n",
      "2782/2782 [==============================] - 58s 21ms/sample - loss: 0.0620 - acc: 0.9777 - val_loss: 0.2599 - val_acc: 0.9037\n",
      "Epoch 20/20\n",
      "2782/2782 [==============================] - 59s 21ms/sample - loss: 0.0538 - acc: 0.9838 - val_loss: 0.2620 - val_acc: 0.9195\n"
     ]
    }
   ],
   "source": [
    "checkpoint = ModelCheckpoint(\n",
    "    \"model_checkpoints/model-{epoch:03d}.model\",\n",
    "    monitor=\"val_loss\",\n",
    "    verbose=0,\n",
    "    save_best_only=True,\n",
    "    mode=\"auto\",\n",
    ")\n",
    "history = model.fit(\n",
    "    train_data, train_target, epochs=20, callbacks=[checkpoint], validation_split=0.2\n",
    ")"
   ]
  },
  {
   "cell_type": "code",
   "execution_count": 10,
   "metadata": {},
   "outputs": [
    {
     "data": {
      "image/png": "[encoded data removed]",
      "text/plain": [
       "<Figure size 576x396 with 1 Axes>"
      ]
     },
     "metadata": {},
     "output_type": "display_data"
    }
   ],
   "source": [
    "# Chart of What?\n",
    "# Defined style for plot\n",
    "plt.style.use('seaborn')\n",
    "plt.plot(history.history[\"loss\"], \"r\", label=\"Training Loss\")\n",
    "plt.plot(history.history[\"val_loss\"], label=\"Validation Loss\")\n",
    "plt.xlabel(\"Number of Epochs\")\n",
    "plt.ylabel(\"Loss\")\n",
    "plt.legend()\n",
    "plt.savefig(\"../resources/loss.png\")\n",
    "plt.show()"
   ]
  },
  {
   "cell_type": "code",
   "execution_count": 15,
   "metadata": {},
   "outputs": [
    {
     "data": {
      "image/png": "[encoded data removed]",
      "text/plain": [
       "<Figure size 576x396 with 1 Axes>"
      ]
     },
     "metadata": {},
     "output_type": "display_data"
    }
   ],
   "source": [
    "# Another Chart of what\n",
    "# Defined style for plot\n",
    "plt.style.use('seaborn')\n",
    "plt.plot(history.history[\"acc\"], \"r\", label=\"Training Accuracy\")\n",
    "plt.plot(history.history[\"val_acc\"], label=\"Validation Accuracy\")\n",
    "plt.xlabel(\"Number of Epochs\")\n",
    "plt.ylabel(\"Loss\")\n",
    "plt.legend()\n",
    "plt.savefig(\"../resources/accuracy.png\")\n",
    "plt.show()"
   ]
  },
  {
   "cell_type": "code",
   "execution_count": 12,
   "metadata": {},
   "outputs": [
    {
     "name": "stdout",
     "output_type": "stream",
     "text": [
      "387/387 [==============================] - 2s 5ms/sample - loss: 0.2106 - acc: 0.9302\n",
      "[0.21059320183681868, 0.9302326]\n"
     ]
    }
   ],
   "source": [
    "print(model.evaluate(test_data, test_target))"
   ]
  },
  {
   "cell_type": "markdown",
   "metadata": {},
   "source": [
    "\n",
    "\n",
    "\n",
    "\n",
    "\n",
    "# Detecting Masks"
   ]
  },
  {
   "cell_type": "code",
   "execution_count": 16,
   "metadata": {},
   "outputs": [
    {
     "name": "stdout",
     "output_type": "stream",
     "text": [
      "WARNING:tensorflow:From C:\\ProgramData\\Anaconda3\\lib\\site-packages\\tensorflow\\python\\ops\\init_ops.py:97: calling GlorotUniform.__init__ (from tensorflow.python.ops.init_ops) with dtype is deprecated and will be removed in a future version.\n",
      "Instructions for updating:\n",
      "Call initializer instance with the dtype argument instead of passing it to the constructor\n",
      "WARNING:tensorflow:From C:\\ProgramData\\Anaconda3\\lib\\site-packages\\tensorflow\\python\\ops\\init_ops.py:97: calling Zeros.__init__ (from tensorflow.python.ops.init_ops) with dtype is deprecated and will be removed in a future version.\n",
      "Instructions for updating:\n",
      "Call initializer instance with the dtype argument instead of passing it to the constructor\n"
     ]
    }
   ],
   "source": [
    "# Load in once of the well performing models from the checkpoints directory.\n",
    "model = load_model(\"./model_checkpoints/model-009.model\")\n",
    "# Load in the face detection classifier for CV2\n",
    "face_clsfr = cv2.CascadeClassifier(\"haarcascade_frontalface_default.xml\")\n",
    "# Input of 0 refers to default webcam\n",
    "source = cv2.VideoCapture(0)\n",
    "\n",
    "# Label and color in RGB for the frame\n",
    "labels_dict = {0: \"THANK YOU!\", 1: \"PUT MASK ON\"}\n",
    "color_dict = {0: (0, 255, 0), 1: (0, 0, 255)}"
   ]
  },
  {
   "cell_type": "code",
   "execution_count": null,
   "metadata": {},
   "outputs": [],
   "source": [
    "# Needs to be CONVERTED to an API style module.\n",
    "# Generate a prediction with loaded model\n",
    "while True:\n",
    "\n",
    "    ret, img = source.read()\n",
    "    gray = cv2.cvtColor(img, cv2.COLOR_BGR2GRAY)\n",
    "    faces = face_clsfr.detectMultiScale(gray, 1.3, 5)\n",
    "\n",
    "    for (x, y, w, h) in faces:\n",
    "\n",
    "        # Find face, resize the shape, pass into model\n",
    "        face_img = gray[y : y + w, x : x + w]\n",
    "        resized = cv2.resize(face_img, (100, 100))\n",
    "        normalized = resized / 255.0\n",
    "        reshaped = np.reshape(normalized, (1, 100, 100, 1))\n",
    "        result = model.predict(reshaped)\n",
    "\n",
    "        label = np.argmax(result, axis=1)[0]\n",
    "\n",
    "        # Draw the rectangle around the face of the person in frame\n",
    "        # Passed in the color and text dicts from the previous cell\n",
    "        cv2.rectangle(img, (x, y), (x + w, y + h), color_dict[label], 2)\n",
    "        cv2.rectangle(img, (x, y - 40), (x + w, y), color_dict[label], -1)\n",
    "        cv2.putText(\n",
    "            img,\n",
    "            labels_dict[label],\n",
    "            (x, y - 10),\n",
    "            cv2.FONT_HERSHEY_SIMPLEX,\n",
    "            0.8,\n",
    "            (255, 255, 255),\n",
    "            2,\n",
    "        )\n",
    "\n",
    "    cv2.imshow(\"LIVE\", img)\n",
    "    key = cv2.waitKey(1)\n",
    "\n",
    "    # If esc key is pressed break out of the loop\n",
    "    if key == 27:\n",
    "        break\n",
    "\n",
    "# Close video window\n",
    "cv2.destroyAllWindows()\n",
    "source.release()"
   ]
  },
  {
   "cell_type": "code",
   "execution_count": null,
   "metadata": {},
   "outputs": [],
   "source": []
  }
 ],
 "metadata": {
  "kernelspec": {
   "display_name": "Python 3",
   "language": "python",
   "name": "python3"
  },
  "language_info": {
   "codemirror_mode": {
    "name": "ipython",
    "version": 3
   },
   "file_extension": ".py",
   "mimetype": "text/x-python",
   "name": "python",
   "nbconvert_exporter": "python",
   "pygments_lexer": "ipython3",
   "version": "3.7.9"
  }
 },
 "nbformat": 4,
 "nbformat_minor": 4
}
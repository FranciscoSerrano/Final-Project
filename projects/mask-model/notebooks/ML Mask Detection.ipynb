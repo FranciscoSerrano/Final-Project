{
 "cells": [
  {
   "cell_type": "markdown",
   "metadata": {},
   "source": [
    "# Mask Detection"
   ]
  },
  {
   "cell_type": "markdown",
   "metadata": {},
   "source": [
    "## Dependencies"
   ]
  },
  {
   "cell_type": "code",
   "execution_count": 1,
   "metadata": {},
   "outputs": [
    {
     "name": "stderr",
     "output_type": "stream",
     "text": [
      "C:\\ProgramData\\Anaconda3\\lib\\site-packages\\tensorflow\\python\\framework\\dtypes.py:516: FutureWarning: Passing (type, 1) or '1type' as a synonym of type is deprecated; in a future version of numpy, it will be understood as (type, (1,)) / '(1,)type'.\n",
      "  _np_qint8 = np.dtype([(\"qint8\", np.int8, 1)])\n",
      "C:\\ProgramData\\Anaconda3\\lib\\site-packages\\tensorflow\\python\\framework\\dtypes.py:517: FutureWarning: Passing (type, 1) or '1type' as a synonym of type is deprecated; in a future version of numpy, it will be understood as (type, (1,)) / '(1,)type'.\n",
      "  _np_quint8 = np.dtype([(\"quint8\", np.uint8, 1)])\n",
      "C:\\ProgramData\\Anaconda3\\lib\\site-packages\\tensorflow\\python\\framework\\dtypes.py:518: FutureWarning: Passing (type, 1) or '1type' as a synonym of type is deprecated; in a future version of numpy, it will be understood as (type, (1,)) / '(1,)type'.\n",
      "  _np_qint16 = np.dtype([(\"qint16\", np.int16, 1)])\n",
      "C:\\ProgramData\\Anaconda3\\lib\\site-packages\\tensorflow\\python\\framework\\dtypes.py:519: FutureWarning: Passing (type, 1) or '1type' as a synonym of type is deprecated; in a future version of numpy, it will be understood as (type, (1,)) / '(1,)type'.\n",
      "  _np_quint16 = np.dtype([(\"quint16\", np.uint16, 1)])\n",
      "C:\\ProgramData\\Anaconda3\\lib\\site-packages\\tensorflow\\python\\framework\\dtypes.py:520: FutureWarning: Passing (type, 1) or '1type' as a synonym of type is deprecated; in a future version of numpy, it will be understood as (type, (1,)) / '(1,)type'.\n",
      "  _np_qint32 = np.dtype([(\"qint32\", np.int32, 1)])\n",
      "C:\\ProgramData\\Anaconda3\\lib\\site-packages\\tensorflow\\python\\framework\\dtypes.py:525: FutureWarning: Passing (type, 1) or '1type' as a synonym of type is deprecated; in a future version of numpy, it will be understood as (type, (1,)) / '(1,)type'.\n",
      "  np_resource = np.dtype([(\"resource\", np.ubyte, 1)])\n"
     ]
    },
    {
     "name": "stdout",
     "output_type": "stream",
     "text": [
      "1.14.0\n"
     ]
    },
    {
     "name": "stderr",
     "output_type": "stream",
     "text": [
      "C:\\ProgramData\\Anaconda3\\lib\\site-packages\\tensorboard\\compat\\tensorflow_stub\\dtypes.py:541: FutureWarning: Passing (type, 1) or '1type' as a synonym of type is deprecated; in a future version of numpy, it will be understood as (type, (1,)) / '(1,)type'.\n",
      "  _np_qint8 = np.dtype([(\"qint8\", np.int8, 1)])\n",
      "C:\\ProgramData\\Anaconda3\\lib\\site-packages\\tensorboard\\compat\\tensorflow_stub\\dtypes.py:542: FutureWarning: Passing (type, 1) or '1type' as a synonym of type is deprecated; in a future version of numpy, it will be understood as (type, (1,)) / '(1,)type'.\n",
      "  _np_quint8 = np.dtype([(\"quint8\", np.uint8, 1)])\n",
      "C:\\ProgramData\\Anaconda3\\lib\\site-packages\\tensorboard\\compat\\tensorflow_stub\\dtypes.py:543: FutureWarning: Passing (type, 1) or '1type' as a synonym of type is deprecated; in a future version of numpy, it will be understood as (type, (1,)) / '(1,)type'.\n",
      "  _np_qint16 = np.dtype([(\"qint16\", np.int16, 1)])\n",
      "C:\\ProgramData\\Anaconda3\\lib\\site-packages\\tensorboard\\compat\\tensorflow_stub\\dtypes.py:544: FutureWarning: Passing (type, 1) or '1type' as a synonym of type is deprecated; in a future version of numpy, it will be understood as (type, (1,)) / '(1,)type'.\n",
      "  _np_quint16 = np.dtype([(\"quint16\", np.uint16, 1)])\n",
      "C:\\ProgramData\\Anaconda3\\lib\\site-packages\\tensorboard\\compat\\tensorflow_stub\\dtypes.py:545: FutureWarning: Passing (type, 1) or '1type' as a synonym of type is deprecated; in a future version of numpy, it will be understood as (type, (1,)) / '(1,)type'.\n",
      "  _np_qint32 = np.dtype([(\"qint32\", np.int32, 1)])\n",
      "C:\\ProgramData\\Anaconda3\\lib\\site-packages\\tensorboard\\compat\\tensorflow_stub\\dtypes.py:550: FutureWarning: Passing (type, 1) or '1type' as a synonym of type is deprecated; in a future version of numpy, it will be understood as (type, (1,)) / '(1,)type'.\n",
      "  np_resource = np.dtype([(\"resource\", np.ubyte, 1)])\n"
     ]
    }
   ],
   "source": [
    "%config IPCompleter.greedy=True\n",
    "%matplotlib inline\n",
    "\n",
    "# Import the dependencies.\n",
    "# OpenCV\n",
    "import cv2\n",
    "\n",
    "# TensorFlow and tf.keras\n",
    "import tensorflow as tf\n",
    "from tensorflow.keras import layers\n",
    "from tensorflow.keras.models import Sequential, save_model, load_model\n",
    "\n",
    "# Helper libraries\n",
    "import os\n",
    "import numpy as np\n",
    "import matplotlib.pyplot as plt\n",
    "\n",
    "# Tensorflow Libraries Matter for Speed!!!\n",
    "print(tf.__version__)"
   ]
  },
  {
   "cell_type": "markdown",
   "metadata": {},
   "source": [
    "# Data Loading"
   ]
  },
  {
   "cell_type": "code",
   "execution_count": 2,
   "metadata": {},
   "outputs": [
    {
     "name": "stdout",
     "output_type": "stream",
     "text": [
      "Printing the labels'dict' {'without_mask': 0, 'with_mask': 1}\n",
      "Printing the categories'list' ['without_mask', 'with_mask']\n",
      "Printing the labels as digits [0, 1]\n"
     ]
    }
   ],
   "source": [
    "# All this could be coverted to the pathlib module\n",
    "# \n",
    "\n",
    "# Processed folder houses the already seperated image files\n",
    "# Images are sperated into two categories \"without_mask\" & \"with_mask\"\n",
    "# Grab the location of the processed folder\n",
    "data_path = \"../data/processed\"\n",
    "\n",
    "# grab the two folder groups and make them to categories\n",
    "categories = os.listdir(data_path)\n",
    "labels = [i for i in range(len(categories))]\n",
    "\n",
    "# Initialize an empty dictionary for labels\n",
    "label_dict = dict(zip(categories, labels))\n",
    "\n",
    "print(f\"Printing the labels'dict' {label_dict}\")\n",
    "print(f\"Printing the categories'list' {categories}\")\n",
    "print(f\"Printing the labels as digits {labels}\")"
   ]
  },
  {
   "cell_type": "markdown",
   "metadata": {},
   "source": [
    "# Data Preprocessing"
   ]
  },
  {
   "cell_type": "code",
   "execution_count": 3,
   "metadata": {},
   "outputs": [],
   "source": [
    "# Normalizing all images to the same size 300x300\n",
    "img_size = 100\n",
    "# List \n",
    "data = []\n",
    "target = []\n",
    "\n",
    "# Looping through the processed folder grabing each image\n",
    "# processing that image through cv2 to gray scale and demension\n",
    "for category in categories:\n",
    "    folder_path = os.path.join(data_path, category)\n",
    "    img_names = os.listdir(folder_path)\n",
    "\n",
    "    for img_name in img_names:\n",
    "        img_path = os.path.join(folder_path, img_name)\n",
    "        img = cv2.imread(img_path)\n",
    "\n",
    "        try:\n",
    "            # Coverting the image into gray scale\n",
    "            gray = cv2.cvtColor(img, cv2.COLOR_BGR2GRAY)\n",
    "            # Resizing the gray scale into 300x300, since we need a fixed common size for all the images in the dataset\n",
    "            resized = cv2.resize(gray, (img_size, img_size))\n",
    "            # Appending the image and the label(categorized) into the list (dataset)\n",
    "            data.append(resized)\n",
    "            target.append(label_dict[category])\n",
    "\n",
    "        except Exception as e:\n",
    "            # If any exception rasied, the exception will be printed here. And pass to the next image\n",
    "            print(\"Exception:\", e)"
   ]
  },
  {
   "cell_type": "code",
   "execution_count": 4,
   "metadata": {},
   "outputs": [],
   "source": [
    "# Create a numpy array to store data and target\n",
    "# Normalize data\n",
    "data = np.array(data) / 255.0\n",
    "\n",
    "data = np.reshape(data, (data.shape[0], img_size, img_size, 1))\n",
    "target = np.array(target)\n",
    "\n",
    "# Use the keras utils tool to create catagorical target\n",
    "new_target = tf.keras.utils.to_categorical(target)"
   ]
  },
  {
   "cell_type": "code",
   "execution_count": 5,
   "metadata": {},
   "outputs": [],
   "source": [
    "# https://numpy.org/doc/stable/reference/generated/numpy.save.html\n",
    "np.save(\"numpy/data\", data)\n",
    "np.save(\"numpy/target\", new_target)"
   ]
  },
  {
   "cell_type": "markdown",
   "metadata": {},
   "source": [
    "# Training the Convolutional Neural Network"
   ]
  },
  {
   "cell_type": "code",
   "execution_count": 6,
   "metadata": {},
   "outputs": [
    {
     "name": "stdout",
     "output_type": "stream",
     "text": [
      "(300, 300, 1)\n"
     ]
    }
   ],
   "source": [
    "# Loading in the saved numpy arrays in the previous code\n",
    "data = np.load(\"numpy/data.npy\")\n",
    "target = np.load(\"numpy/target.npy\")\n",
    "print(data.shape[1:])"
   ]
  },
  {
   "cell_type": "code",
   "execution_count": 10,
   "metadata": {},
   "outputs": [],
   "source": [
    "# Create the model\n",
    "model = Sequential()\n",
    "\n",
    "# The first CNN layer followed by Relu and MaxPooling layers\n",
    "model.add(layers.Conv2D(200, (3, 3), activation='relu', input_shape=(100, 100, 1)))\n",
    "model.add(layers.MaxPooling2D(pool_size=(2, 2)))\n",
    "\n",
    "# The second convolution layer followed by Relu and MaxPooling layers\n",
    "model.add(layers.Conv2D(100, (3, 3), activation='relu',))\n",
    "model.add(layers.MaxPooling2D(pool_size=(2, 2)))\n",
    "\n",
    "# Flatten layer to stack the output convolutions from second convolution layer\n",
    "model.add(layers.Flatten())\n",
    "model.add(layers.Dropout(0.5))\n",
    "\n",
    "# Dense layer of 64 neurons\n",
    "model.add(layers.Dense(64, activation=\"relu\"))\n",
    "# The Final layer with two outputs for two categories\n",
    "model.add(layers.Dense(2, activation=\"softmax\"))\n",
    "\n",
    "# Compile the model\n",
    "model.compile(optimizer='adam',\n",
    "              loss=\"categorical_crossentropy\",\n",
    "              metrics=['accuracy'])"
   ]
  },
  {
   "cell_type": "code",
   "execution_count": 11,
   "metadata": {},
   "outputs": [],
   "source": [
    "from sklearn.model_selection import train_test_split\n",
    "\n",
    "# Use the train_test_split to split the data into training and testing set.\n",
    "# The data set isnt very large so only using 10% to test.\n",
    "train_data, test_data, train_target, test_target = train_test_split(\n",
    "    data, target, test_size=0.1\n",
    ")"
   ]
  },
  {
   "cell_type": "code",
   "execution_count": 12,
   "metadata": {},
   "outputs": [
    {
     "name": "stdout",
     "output_type": "stream",
     "text": [
      "Train on 2782 samples, validate on 696 samples\n",
      "Epoch 1/20\n",
      "2782/2782 [==============================] - 566s 203ms/sample - loss: 0.8437 - acc: 0.6571 - val_loss: 0.4912 - val_acc: 0.7644\n",
      "Epoch 2/20\n",
      "2782/2782 [==============================] - 553s 199ms/sample - loss: 0.4375 - acc: 0.7994 - val_loss: 0.3614 - val_acc: 0.8434\n",
      "Epoch 3/20\n",
      "2782/2782 [==============================] - 517s 186ms/sample - loss: 0.3600 - acc: 0.8393 - val_loss: 0.3521 - val_acc: 0.8434\n",
      "Epoch 4/20\n",
      "2782/2782 [==============================] - 518s 186ms/sample - loss: 0.2761 - acc: 0.8774 - val_loss: 0.3289 - val_acc: 0.8491\n",
      "Epoch 5/20\n",
      "2782/2782 [==============================] - 511s 184ms/sample - loss: 0.2086 - acc: 0.9109 - val_loss: 0.3295 - val_acc: 0.8606\n",
      "Epoch 6/20\n",
      "2782/2782 [==============================] - 509s 183ms/sample - loss: 0.1400 - acc: 0.9418 - val_loss: 0.5219 - val_acc: 0.8376\n",
      "Epoch 7/20\n",
      "2782/2782 [==============================] - 509s 183ms/sample - loss: 0.0942 - acc: 0.9608 - val_loss: 0.4310 - val_acc: 0.8764\n",
      "Epoch 8/20\n",
      "2782/2782 [==============================] - 509s 183ms/sample - loss: 0.0793 - acc: 0.9698 - val_loss: 0.4513 - val_acc: 0.8621\n",
      "Epoch 9/20\n",
      "2782/2782 [==============================] - 521s 187ms/sample - loss: 0.0670 - acc: 0.9745 - val_loss: 0.4755 - val_acc: 0.8807\n",
      "Epoch 10/20\n",
      "2782/2782 [==============================] - 514s 185ms/sample - loss: 0.0592 - acc: 0.9799 - val_loss: 0.5581 - val_acc: 0.8793\n",
      "Epoch 11/20\n",
      "2782/2782 [==============================] - 528s 190ms/sample - loss: 0.0551 - acc: 0.9806 - val_loss: 0.4982 - val_acc: 0.8851\n",
      "Epoch 12/20\n",
      "2782/2782 [==============================] - 520s 187ms/sample - loss: 0.0537 - acc: 0.9838 - val_loss: 0.4763 - val_acc: 0.8549\n",
      "Epoch 13/20\n",
      "2782/2782 [==============================] - 512s 184ms/sample - loss: 0.0431 - acc: 0.9845 - val_loss: 0.5345 - val_acc: 0.8693\n",
      "Epoch 14/20\n",
      "2782/2782 [==============================] - 512s 184ms/sample - loss: 0.0266 - acc: 0.9939 - val_loss: 0.5229 - val_acc: 0.8894\n",
      "Epoch 15/20\n",
      "2782/2782 [==============================] - 514s 185ms/sample - loss: 0.0155 - acc: 0.9946 - val_loss: 0.5673 - val_acc: 0.8922\n",
      "Epoch 16/20\n",
      "2782/2782 [==============================] - 514s 185ms/sample - loss: 0.0274 - acc: 0.9932 - val_loss: 0.6002 - val_acc: 0.9066\n",
      "Epoch 17/20\n",
      "2782/2782 [==============================] - 514s 185ms/sample - loss: 0.0129 - acc: 0.9964 - val_loss: 0.6027 - val_acc: 0.8649\n",
      "Epoch 18/20\n",
      "2782/2782 [==============================] - 534s 192ms/sample - loss: 0.0179 - acc: 0.9950 - val_loss: 0.5629 - val_acc: 0.8851\n",
      "Epoch 19/20\n",
      "2782/2782 [==============================] - 515s 185ms/sample - loss: 0.0226 - acc: 0.9968 - val_loss: 0.5735 - val_acc: 0.8592\n",
      "Epoch 20/20\n",
      "2782/2782 [==============================] - 515s 185ms/sample - loss: 0.0458 - acc: 0.9824 - val_loss: 0.5508 - val_acc: 0.8750\n"
     ]
    }
   ],
   "source": [
    "checkpoint = tf.keras.callbacks.ModelCheckpoint(\n",
    "    \"model_checkpoints/model-{epoch:03d}.model\",\n",
    "    monitor=\"val_loss\",\n",
    "    verbose=0,\n",
    "    save_best_only=True,\n",
    "    mode=\"auto\",\n",
    ")\n",
    "history = model.fit(\n",
    "    train_data, train_target, epochs=20, callbacks=[checkpoint], validation_split=0.2\n",
    ")"
   ]
  },
  {
   "cell_type": "code",
   "execution_count": 13,
   "metadata": {},
   "outputs": [
    {
     "data": {
      "image/png": "[encoded data removed]",
      "text/plain": [
       "<Figure size 576x396 with 1 Axes>"
      ]
     },
     "metadata": {},
     "output_type": "display_data"
    }
   ],
   "source": [
    "# Chart of What?\n",
    "# Defined style for plot\n",
    "plt.style.use('seaborn')\n",
    "plt.plot(history.history[\"loss\"], \"r\", label=\"Training Loss\")\n",
    "plt.plot(history.history[\"val_loss\"], label=\"Validation Loss\")\n",
    "plt.xlabel(\"Number of Epochs\")\n",
    "plt.ylabel(\"Loss\")\n",
    "plt.legend()\n",
    "plt.savefig(\"../resources/loss.png\")\n",
    "plt.show()"
   ]
  },
  {
   "cell_type": "code",
   "execution_count": 14,
   "metadata": {},
   "outputs": [
    {
     "data": {
      "image/png": "[encoded data removed]",
      "text/plain": [
       "<Figure size 576x396 with 1 Axes>"
      ]
     },
     "metadata": {},
     "output_type": "display_data"
    }
   ],
   "source": [
    "# Another Chart of what\n",
    "# Defined style for plot\n",
    "plt.style.use('seaborn')\n",
    "plt.plot(history.history[\"acc\"], \"r\", label=\"Training Accuracy\")\n",
    "plt.plot(history.history[\"val_acc\"], label=\"Validation Accuracy\")\n",
    "plt.xlabel(\"Number of Epochs\")\n",
    "plt.ylabel(\"Loss\")\n",
    "plt.legend()\n",
    "plt.savefig(\"../resources/accuracy.png\")\n",
    "plt.show()"
   ]
  },
  {
   "cell_type": "code",
   "execution_count": 15,
   "metadata": {},
   "outputs": [
    {
     "name": "stdout",
     "output_type": "stream",
     "text": [
      "Model: \"sequential_1\"\n",
      "_________________________________________________________________\n",
      "Layer (type)                 Output Shape              Param #   \n",
      "=================================================================\n",
      "conv2d_2 (Conv2D)            (None, 298, 298, 200)     2000      \n",
      "_________________________________________________________________\n",
      "max_pooling2d_2 (MaxPooling2 (None, 149, 149, 200)     0         \n",
      "_________________________________________________________________\n",
      "conv2d_3 (Conv2D)            (None, 147, 147, 100)     180100    \n",
      "_________________________________________________________________\n",
      "max_pooling2d_3 (MaxPooling2 (None, 73, 73, 100)       0         \n",
      "_________________________________________________________________\n",
      "flatten_1 (Flatten)          (None, 532900)            0         \n",
      "_________________________________________________________________\n",
      "dropout_1 (Dropout)          (None, 532900)            0         \n",
      "_________________________________________________________________\n",
      "dense_2 (Dense)              (None, 64)                34105664  \n",
      "_________________________________________________________________\n",
      "dense_3 (Dense)              (None, 2)                 130       \n",
      "=================================================================\n",
      "Total params: 34,287,894\n",
      "Trainable params: 34,287,894\n",
      "Non-trainable params: 0\n",
      "_________________________________________________________________\n",
      "None\n",
      "387/387 [==============================] - 18s 47ms/sample - loss: 0.7063 - acc: 0.8734\n",
      "[0.7062996429347888, 0.873385]\n"
     ]
    }
   ],
   "source": [
    "print(model.summary())\n",
    "print(model.evaluate(test_data, test_target))"
   ]
  },
  {
   "cell_type": "code",
   "execution_count": 18,
   "metadata": {},
   "outputs": [],
   "source": [
    "# Properly save the model for API use.\n",
    "tf.keras.models.save_model(\n",
    "    model,\n",
    "    \"model_checkpoints/model\",\n",
    "    overwrite=True,\n",
    "    include_optimizer=True,\n",
    "    save_format=None,\n",
    "    #signatures=None,\n",
    "    #options=None\n",
    ")"
   ]
  },
  {
   "cell_type": "markdown",
   "metadata": {},
   "source": [
    "# Detecting Masks\n",
    "\n",
    " - Install nodeJS\n",
    " - pip install ipywidgets\n",
    " - jupyter nbextension enable --py widgetsnbextension\n",
    " - jupyter labextension install @jupyter-widgets/jupyterlab-manager\n",
    " - (may need to restart your lab)"
   ]
  },
  {
   "cell_type": "code",
   "execution_count": 19,
   "metadata": {},
   "outputs": [
    {
     "name": "stdout",
     "output_type": "stream",
     "text": [
      "WARNING:tensorflow:From C:\\ProgramData\\Anaconda3\\lib\\site-packages\\tensorflow\\python\\ops\\init_ops.py:97: calling GlorotUniform.__init__ (from tensorflow.python.ops.init_ops) with dtype is deprecated and will be removed in a future version.\n",
      "Instructions for updating:\n",
      "Call initializer instance with the dtype argument instead of passing it to the constructor\n",
      "WARNING:tensorflow:From C:\\ProgramData\\Anaconda3\\lib\\site-packages\\tensorflow\\python\\ops\\init_ops.py:97: calling Zeros.__init__ (from tensorflow.python.ops.init_ops) with dtype is deprecated and will be removed in a future version.\n",
      "Instructions for updating:\n",
      "Call initializer instance with the dtype argument instead of passing it to the constructor\n"
     ]
    }
   ],
   "source": [
    "# Load in once of the well performing models from the checkpoints directory.\n",
    "model = load_model(\"./model_checkpoints/model-009.model\")\n",
    "# Load in the face detection classifier for CV2\n",
    "face_clsfr = cv2.CascadeClassifier(\"haarcascade_frontalface_default.xml\")\n",
    "\n",
    "# Label and color in RGB for the frame\n",
    "labels_dict = {0: \"Yes\", 1: \"No\"}\n",
    "color_dict = {0: (0, 255, 0), 1: (0, 0, 255)}"
   ]
  },
  {
   "cell_type": "code",
   "execution_count": 22,
   "metadata": {},
   "outputs": [
    {
     "data": {
      "application/vnd.jupyter.widget-view+json": {
       "model_id": "971743dc1c2c42beb501f5fb31b35ded",
       "version_major": 2,
       "version_minor": 0
      },
      "text/plain": [
       "FileUpload(value={}, accept='image/*', description='Upload')"
      ]
     },
     "metadata": {},
     "output_type": "display_data"
    },
    {
     "name": "stdout",
     "output_type": "stream",
     "text": [
      "{}\n"
     ]
    }
   ],
   "source": [
    "test_path_one = \"../data/external/test/maksssksksss0.png\"\n",
    "test_path_two = \"../data/external/test/maksssksksss273.png\"\n",
    "test_path_three = \"../data/external/test/maksssksksss299.png\"\n",
    "\n",
    "# Prediction Function\n",
    "# Needs to be CONVERTED to an API style module.\n",
    "# Generate a prediction with loaded model\n",
    "def predictor(requestedImage):\n",
    "    img = cv2.imread(requestedImage)\n",
    "    gray = cv2.cvtColor(img, cv2.COLOR_BGR2GRAY)\n",
    "    faces = face_clsfr.detectMultiScale(gray, 1.3, 5)\n",
    "    \n",
    "    for (x, y, w, h) in faces:\n",
    "\n",
    "        # Find face, resize the shape, pass into model\n",
    "        face_img = gray[y : y + w, x : x + w]\n",
    "        resized = cv2.resize(face_img, (100, 100))\n",
    "        normalized = resized / 255.0\n",
    "        reshaped = np.reshape(normalized, (1, 100, 100, 1))\n",
    "        result = model.predict(reshaped)\n",
    "\n",
    "        label = np.argmax(result, axis=1)[0]\n",
    "\n",
    "        # Draw the rectangle around the face of the person in frame\n",
    "        # Passed in the color and text dicts from the previous cell\n",
    "        cv2.rectangle(img, (x, y), (x + w, y + h), color_dict[label], 2)\n",
    "        cv2.rectangle(img, (x, y - 40), (x + w, y), color_dict[label], -1)\n",
    "        cv2.putText(\n",
    "            img,\n",
    "            labels_dict[label],\n",
    "            (x, y - 10),\n",
    "            cv2.FONT_HERSHEY_SIMPLEX,\n",
    "            0.8,\n",
    "            (255, 255, 255),\n",
    "            2,\n",
    "        )\n",
    "    \n",
    "    # show the image\n",
    "    cv2.imshow('mask detection', img)\n",
    "    # keep the window open until we press a key\n",
    "    cv2.waitKey(0)\n",
    "    # close the window\n",
    "    cv2.destroyAllWindows()\n",
    "\n",
    "# Test the prediction fucntion\n",
    "predictor(test_path_three)\n",
    "    \n",
    "# Input for file selction\n",
    "# https://stackoverflow.com/a/64804255/1330405\n",
    "# https://ipywidgets.readthedocs.io/en/stable/examples/Widget%20List.html?highlight=FileUpload#File-Upload\n",
    "from ipywidgets import FileUpload\n",
    "from IPython.display import display\n",
    "\n",
    "# Print all the details for the image uploaded.\n",
    "def on_upload_change(change):\n",
    "    if change.new==0:\n",
    "        print ('cleared')\n",
    "        return\n",
    "    up = change.owner\n",
    "    print (type(up.value))\n",
    "    for filename,data in up.value.items():\n",
    "        print('==========================================================================================')\n",
    "        print(filename)\n",
    "        for k,v in data['metadata'].items():\n",
    "            print(f'    -{k:13}:[{v}]')\n",
    "        print(f'    -content len  :[{len(data[\"content\"])}]')\n",
    "        print('==========================================================================================')\n",
    "    up.value.clear()\n",
    "    up._counter = 0\n",
    "\n",
    "upload_btn = FileUpload(\n",
    "    accept='image/*',  # Accepted file extension e.g. '.txt', '.pdf', 'image/*', 'image/*,.pdf'\n",
    "    multiple=False  # True to accept multiple files upload else False\n",
    ")\n",
    "display(upload_btn)\n",
    "upload_btn.observe(on_upload_change, names='_counter')\n",
    "\n",
    "print(upload_btn.value)"
   ]
  },
  {
   "cell_type": "code",
   "execution_count": null,
   "metadata": {},
   "outputs": [],
   "source": [
    "# Wanting to try and implent the same but with HTML and JavaScript\n",
    "from IPython.display import display, HTML\n",
    "\n",
    "display(HTML(\"\"\"\n",
    "    <input type=\"file\" name=\"myfile\">\n",
    "\"\"\"))"
   ]
  },
  {
   "cell_type": "code",
   "execution_count": null,
   "metadata": {},
   "outputs": [],
   "source": []
  }
 ],
 "metadata": {
  "kernelspec": {
   "display_name": "Python 3",
   "language": "python",
   "name": "python3"
  },
  "language_info": {
   "codemirror_mode": {
    "name": "ipython",
    "version": 3
   },
   "file_extension": ".py",
   "mimetype": "text/x-python",
   "name": "python",
   "nbconvert_exporter": "python",
   "pygments_lexer": "ipython3",
   "version": "3.7.9"
  }
 },
 "nbformat": 4,
 "nbformat_minor": 4
}
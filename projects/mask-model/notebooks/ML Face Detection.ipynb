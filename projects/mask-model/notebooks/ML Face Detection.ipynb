{
 "cells": [
  {
   "cell_type": "markdown",
   "metadata": {},
   "source": [
    "# Face Detection"
   ]
  },
  {
   "cell_type": "markdown",
   "metadata": {},
   "source": [
    "## Dependencies"
   ]
  },
  {
   "cell_type": "code",
   "execution_count": 1,
   "metadata": {},
   "outputs": [
    {
     "output_type": "stream",
     "name": "stdout",
     "text": [
      "4.4.0\n"
     ]
    }
   ],
   "source": [
    "%config IPCompleter.greedy=True\n",
    "%matplotlib inline\n",
    "\n",
    "# Import the dependencies.\n",
    "# OpenCV\n",
    "import cv2\n",
    "\n",
    "# TensorFlow and tf.keras\n",
    "import tensorflow as tf\n",
    "\n",
    "# Helper libraries\n",
    "import os\n",
    "import numpy as np\n",
    "import matplotlib.pyplot as plt\n",
    "\n",
    "# print version of cv2\n",
    "print(cv2.__version__)"
   ]
  },
  {
   "cell_type": "code",
   "execution_count": 2,
   "metadata": {},
   "outputs": [],
   "source": [
    "# OpenCV provides the CascadeClassifier class that can be used to create a cascade classifier for face detection. The constructor can take a filename as an argument that specifies the XML file for a pre-trained model.\n",
    "\n",
    "# Download a pre-trained model for frontal face detection from the OpenCV GitHub project (https://github.com/opencv/opencv/tree/master/data/haarcascades) and place it in your current working directory with the filename ‘haarcascade_frontalface_default.xml‘.\n",
    "\n",
    "# Load the pre-trained model\n",
    "face_clsfr = cv2.CascadeClassifier(\"haarcascade_frontalface_default.xml\")"
   ]
  },
  {
   "cell_type": "code",
   "execution_count": 4,
   "metadata": {},
   "outputs": [],
   "source": [
    "# Accessing our /data/external/test folder we will test the OpenCV classifier\n",
    "\n",
    "test_path = \"../data/external/test/maksssksksss0.png\"\n",
    "\n",
    "img = cv2.imread(test_path)"
   ]
  },
  {
   "cell_type": "code",
   "execution_count": 14,
   "metadata": {},
   "outputs": [
    {
     "output_type": "stream",
     "name": "stdout",
     "text": [
      "[310  82  56  56]\n[  9 160  59  59]\n"
     ]
    }
   ],
   "source": [
    "# Once loaded, the model can be used to perform face detection on a photograph by calling the detectMultiScale() function.\n",
    "\n",
    "# Perform face detection\n",
    "boxed_faces = face_clsfr.detectMultiScale(img)\n",
    "\n",
    "# Print bounding box for each detected face\n",
    "for box in boxed_faces:\n",
    "    # extract\n",
    "    x, y, width, height = box\n",
    "    # Printthe box coordinates to double check the numbers\n",
    "    print(box)\n",
    "    #drawing a rectangle for each box directly over the pixels of the loaded image using the rectangle()       function that takes two points.\n",
    "    x2, y2 = x + width, y + height\n",
    "    # draw a rectangle over the pixels\n",
    "    cv2.rectangle(img, (x, y), (x2, y2), (0,0,255), 1)\n",
    "\n",
    "# show the image\n",
    "cv2.imshow('face detection', img)\n",
    "# keep the window open until we press a key\n",
    "cv2.waitKey(0)\n",
    "# close the window\n",
    "cv2.destroyAllWindows()"
   ]
  },
  {
   "cell_type": "code",
   "execution_count": null,
   "metadata": {},
   "outputs": [],
   "source": [
    "# I need to fix the reason the model is finding a face wear there is no face!"
   ]
  }
 ],
 "metadata": {
  "kernelspec": {
   "display_name": "Python 3",
   "language": "python",
   "name": "python3"
  },
  "language_info": {
   "codemirror_mode": {
    "name": "ipython",
    "version": 3
   },
   "file_extension": ".py",
   "mimetype": "text/x-python",
   "name": "python",
   "nbconvert_exporter": "python",
   "pygments_lexer": "ipython3",
   "version": "3.7.9-final"
  }
 },
 "nbformat": 4,
 "nbformat_minor": 4
}